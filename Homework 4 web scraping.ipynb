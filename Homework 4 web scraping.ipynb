{
 "cells": [
  {
   "cell_type": "markdown",
   "metadata": {},
   "source": [
    "### Before start web scraping we have examined the web page with the instrument 'inspects'. As we see all the information are inside the HTML class 'listing-item_body--content'; we have build our script to download data finding all 'li' class element inside the previous class which contain all the required data. BeautifulSoup library is used in order to perform all these action."
   ]
  },
  {
   "cell_type": "markdown",
   "metadata": {},
   "source": [
    "![](https://github.com/DanSan23/HOMEWORK-4-immobiliare.it/raw/master/Web%20site%20structure.png)"
   ]
  },
  {
   "cell_type": "markdown",
   "metadata": {},
   "source": [
    "#### Import library"
   ]
  },
  {
   "cell_type": "code",
   "execution_count": null,
   "metadata": {},
   "outputs": [],
   "source": [
    "import requests\n",
    "import pandas as pd\n",
    "from bs4 import BeautifulSoup\n",
    "import nltk\n",
    "from nltk.corpus import stopwords\n",
    "from nltk.stem.porter import PorterStemmer\n",
    "from nltk.tokenize import word_tokenize, regexp_tokenize\n",
    "import numpy as np\n",
    "import time\n",
    "from sklearn.cluster import KMeans\n",
    "from tqdm import tqdm\n",
    "import pickle\n",
    "import matplotlib.pyplot as plt"
   ]
  },
  {
   "cell_type": "markdown",
   "metadata": {},
   "source": [
    "## Parsing page with BeautifulSoup"
   ]
  },
  {
   "cell_type": "markdown",
   "metadata": {},
   "source": [
    "Get data from website using $requests$ library and create a $BeautifulSoup$ element to parse web pages."
   ]
  },
  {
   "cell_type": "code",
   "execution_count": null,
   "metadata": {},
   "outputs": [],
   "source": [
    "#create lists where store the data\n",
    "title=[]\n",
    "price=[]\n",
    "n_room=[]\n",
    "mq=[]\n",
    "n_bathroom=[]\n",
    "plan=[]\n",
    "desc=[]\n",
    "i=1\n",
    "#iterate to take data from different page\n",
    "for num in tqdm(range(1,1728)):\n",
    "    url = str('www.immobiliare.it/vendita-case/roma/?criterio=rilevanza&pag='+str(num))\n",
    "    r = requests.get('https://' +url)\n",
    "    data = r.text\n",
    "    soup = BeautifulSoup(data,'html.parser')\n",
    "\n",
    "    #iterate on the main class which contain all the data \n",
    "    for announcement in tqdm(soup.find_all('div', class_='listing-item_body--content')):\n",
    "        #find all 'li' class which contain the data that we want and store them inside the lists\n",
    "        feature = announcement.find_all('li')\n",
    "        #check if we have all the feature required because some announcement are not complete\n",
    "        if len(feature)>=5:\n",
    "            #filter word on price\n",
    "            feature_price = feature[0].text.strip()\n",
    "            if ('PREZZO SU RICHIESTA' in feature_price )== True:\n",
    "                break\n",
    "            elif('%' in feature_price) == True:\n",
    "                #remove undesired character\n",
    "                feature_price = feature_price.replace('.','').replace('€','').replace(' ','')\n",
    "                #slice in order to take the desired number\n",
    "                price.append(feature_price[-19:-12])\n",
    "            else:\n",
    "                feature_price = feature_price.replace('.','').replace('€','').replace(' ','')\n",
    "                price.append(feature_price)\n",
    "            feature_n_room = feature[1].text[0]\n",
    "            n_room.append(feature_n_room)\n",
    "            feature_mq = feature[2].text[0:-12].replace('\\xa0','')\n",
    "            mq.append(feature_mq)\n",
    "            feature_n_bathroom = feature[3].text[0:-5].replace('+','').replace('\\xa0','')\n",
    "            n_bathroom.append(feature_n_bathroom)\n",
    "            feature_plan = feature[4].text[0:-7].strip()\n",
    "            #check if there is a character inside plan data, if yes pop last elements \n",
    "            if feature_plan.isalpha()==True:\n",
    "                #title.pop()\n",
    "                price.pop()\n",
    "                n_room.pop()\n",
    "                mq.pop()\n",
    "                n_bathroom.pop()\n",
    "                i+=0\n",
    "\n",
    "            else:    \n",
    "                plan.append(feature_plan)\n",
    "\n",
    "                #find <a element where <href is present\n",
    "                link=announcement.find('a', href=True)\n",
    "                #check to solve the problem where the <href didn't have the complete link\n",
    "                if ('https://' in link['href'])==True:\n",
    "                    ann=requests.get(link['href'])\n",
    "                else:\n",
    "                    ann=requests.get('https://www.immobiliare.it'+link['href'])\n",
    "                data1 = ann.text\n",
    "                #create another bs4 element with the objective of taking commplete text from announcement\n",
    "                soup1 = BeautifulSoup(data1,'html.parser')\n",
    "                #access to link and take complete text\n",
    "                a=soup1.find('div', attrs={'role':'contentinfo'}).text.strip()\n",
    "                desc.append(a)\n",
    "                title.append('announcement_'+str(i))\n",
    "                i+=1\n",
    "\n",
    "\n",
    "    time.sleep(1)"
   ]
  },
  {
   "cell_type": "markdown",
   "metadata": {},
   "source": [
    "### Load the list"
   ]
  },
  {
   "cell_type": "markdown",
   "metadata": {},
   "source": [
    "After download all announcement we have save all lists. If you want to try the code run the follow cell after download the files (files are stored in folder DATA file in our repository)."
   ]
  },
  {
   "cell_type": "code",
   "execution_count": 39,
   "metadata": {},
   "outputs": [],
   "source": [
    "with open(r'C:\\Users\\Daniele\\Desktop\\liste download\\desc', 'rb') as f:\n",
    "    desc = pickle.load(f)\n",
    "\n",
    "with open(r'C:\\Users\\Daniele\\Desktop\\liste download\\plan', 'rb') as f:\n",
    "    plan = pickle.load(f)\n",
    "\n",
    "with open(r'C:\\Users\\Daniele\\Desktop\\liste download\\n_bathroom', 'rb') as f:\n",
    "    n_bathroom = pickle.load(f)\n",
    "    \n",
    "with open(r'C:\\Users\\Daniele\\Desktop\\liste download\\mq', 'rb') as f:\n",
    "    mq = pickle.load(f)\n",
    "\n",
    "with open(r'C:\\Users\\Daniele\\Desktop\\liste download\\n_room', 'rb') as f:\n",
    "    n_room = pickle.load(f)\n",
    "\n",
    "with open(r'C:\\Users\\Daniele\\Desktop\\liste download\\price', 'rb') as f:\n",
    "    price = pickle.load(f) \n",
    "    \n",
    "with open(r'C:\\Users\\Daniele\\Desktop\\liste download\\title', 'rb') as f:\n",
    "    title = pickle.load(f)\n",
    "\n",
    "with open(r'C:\\Users\\Daniele\\Desktop\\liste download\\processed_list', 'rb') as f:\n",
    "    processed_list = pickle.load(f)    "
   ]
  },
  {
   "cell_type": "markdown",
   "metadata": {},
   "source": [
    "The data are saved in a dictionary and stored in a pandas DataFrame, in this way we have created the first Dataset."
   ]
  },
  {
   "cell_type": "code",
   "execution_count": 41,
   "metadata": {
    "scrolled": false
   },
   "outputs": [
    {
     "data": {
      "text/html": [
       "<div>\n",
       "<style scoped>\n",
       "    .dataframe tbody tr th:only-of-type {\n",
       "        vertical-align: middle;\n",
       "    }\n",
       "\n",
       "    .dataframe tbody tr th {\n",
       "        vertical-align: top;\n",
       "    }\n",
       "\n",
       "    .dataframe thead th {\n",
       "        text-align: right;\n",
       "    }\n",
       "</style>\n",
       "<table border=\"1\" class=\"dataframe\">\n",
       "  <thead>\n",
       "    <tr style=\"text-align: right;\">\n",
       "      <th></th>\n",
       "      <th>Prezzo</th>\n",
       "      <th>Camere</th>\n",
       "      <th>Superficie</th>\n",
       "      <th>Bagni</th>\n",
       "      <th>Piano</th>\n",
       "    </tr>\n",
       "    <tr>\n",
       "      <th>Annuncio</th>\n",
       "      <th></th>\n",
       "      <th></th>\n",
       "      <th></th>\n",
       "      <th></th>\n",
       "      <th></th>\n",
       "    </tr>\n",
       "  </thead>\n",
       "  <tbody>\n",
       "    <tr>\n",
       "      <th>announcement_1</th>\n",
       "      <td>225000</td>\n",
       "      <td>2</td>\n",
       "      <td>50</td>\n",
       "      <td>1</td>\n",
       "      <td>1</td>\n",
       "    </tr>\n",
       "    <tr>\n",
       "      <th>announcement_2</th>\n",
       "      <td>395000</td>\n",
       "      <td>5</td>\n",
       "      <td>130</td>\n",
       "      <td>2</td>\n",
       "      <td>1</td>\n",
       "    </tr>\n",
       "    <tr>\n",
       "      <th>announcement_3</th>\n",
       "      <td>3700000</td>\n",
       "      <td>5</td>\n",
       "      <td>250</td>\n",
       "      <td>3</td>\n",
       "      <td>5</td>\n",
       "    </tr>\n",
       "    <tr>\n",
       "      <th>announcement_4</th>\n",
       "      <td>850000</td>\n",
       "      <td>5</td>\n",
       "      <td>175</td>\n",
       "      <td>2</td>\n",
       "      <td>5</td>\n",
       "    </tr>\n",
       "    <tr>\n",
       "      <th>announcement_5</th>\n",
       "      <td>279000</td>\n",
       "      <td>3</td>\n",
       "      <td>110</td>\n",
       "      <td>1</td>\n",
       "      <td>1</td>\n",
       "    </tr>\n",
       "  </tbody>\n",
       "</table>\n",
       "</div>"
      ],
      "text/plain": [
       "                 Prezzo  Camere  Superficie  Bagni  Piano\n",
       "Annuncio                                                 \n",
       "announcement_1   225000       2          50      1      1\n",
       "announcement_2   395000       5         130      2      1\n",
       "announcement_3  3700000       5         250      3      5\n",
       "announcement_4   850000       5         175      2      5\n",
       "announcement_5   279000       3         110      1      1"
      ]
     },
     "execution_count": 41,
     "metadata": {},
     "output_type": "execute_result"
    }
   ],
   "source": [
    "table=pd.DataFrame({'Annuncio':title,\n",
    "                    'Prezzo':price,\n",
    "                    'Camere':n_room,\n",
    "                    'Superficie':mq,\n",
    "                    'Bagni':n_bathroom,\n",
    "                    'Piano':plan})\n",
    "#used to remove a \\n inside \"Piano\" coloumn\n",
    "Information_cluster =table.set_index('Annuncio')\n",
    "Information_cluster.head()"
   ]
  },
  {
   "cell_type": "markdown",
   "metadata": {},
   "source": [
    "Function to preprocess all text in the announcement is now executed; it's a function which remove punctuation, undesired symbols,doing tokenization and stemming."
   ]
  },
  {
   "cell_type": "code",
   "execution_count": 67,
   "metadata": {},
   "outputs": [],
   "source": [
    "def preprocess(text):\n",
    "    text = text.lower()\n",
    "    # removing '\\n'\n",
    "    text = text.replace('\\\\n', ' ')\n",
    "    # removing punctuation\n",
    "    tokenizer = regexp_tokenize(text, \"[\\w\\$]+\")\n",
    "    # filter the non stopwords\n",
    "    filtered = [w for w in tokenizer if not w in stopwords.words('italian')]\n",
    "    ps = PorterStemmer()\n",
    "    # removing the stem\n",
    "    filtered = [ps.stem(word) for word in filtered]\n",
    "    return filtered"
   ]
  },
  {
   "cell_type": "markdown",
   "metadata": {},
   "source": [
    "The preprocess function is now excuted for all announcement and the result is store in a list (in Data files folder, there is also this list)"
   ]
  },
  {
   "cell_type": "code",
   "execution_count": null,
   "metadata": {},
   "outputs": [],
   "source": [
    "processed_list=[]\n",
    "for i in tqdm(desc):\n",
    "    processed_list.append(preprocess(i))    "
   ]
  },
  {
   "cell_type": "markdown",
   "metadata": {},
   "source": [
    "Simply checking the number of unique word that we have."
   ]
  },
  {
   "cell_type": "code",
   "execution_count": 69,
   "metadata": {},
   "outputs": [
    {
     "data": {
      "text/plain": [
       "25421"
      ]
     },
     "execution_count": 69,
     "metadata": {},
     "output_type": "execute_result"
    }
   ],
   "source": [
    "flat_list = [item for sublist in processed_list for item in sublist]\n",
    "len(list(set(flat_list)))"
   ]
  },
  {
   "cell_type": "markdown",
   "metadata": {},
   "source": [
    "The processed_list composed by a nested lists of words is converted to a list of strings and then a data frame with wordId and all text from the announcement processed is created."
   ]
  },
  {
   "cell_type": "code",
   "execution_count": 118,
   "metadata": {},
   "outputs": [],
   "source": [
    "#converting to list of strings\n",
    "Converting=[' '.join(i) for i in processed_list]\n",
    "#generate the wordId\n",
    "WordId=[int(i) for i in range(1,len(Converting)+1)]\n",
    "#creating dataframe with wordId and all text from the announcement processed\n",
    "df1 = pd.DataFrame({'wordId': WordId, 'parole': Converting})"
   ]
  },
  {
   "cell_type": "markdown",
   "metadata": {},
   "source": [
    "We have used pandas and numpy to compute $Tf-Idf$ in the previous generated dataframe"
   ]
  },
  {
   "cell_type": "code",
   "execution_count": 119,
   "metadata": {
    "scrolled": true
   },
   "outputs": [
    {
     "data": {
      "text/html": [
       "<div>\n",
       "<style scoped>\n",
       "    .dataframe tbody tr th:only-of-type {\n",
       "        vertical-align: middle;\n",
       "    }\n",
       "\n",
       "    .dataframe tbody tr th {\n",
       "        vertical-align: top;\n",
       "    }\n",
       "\n",
       "    .dataframe thead th {\n",
       "        text-align: right;\n",
       "    }\n",
       "</style>\n",
       "<table border=\"1\" class=\"dataframe\">\n",
       "  <thead>\n",
       "    <tr style=\"text-align: right;\">\n",
       "      <th></th>\n",
       "      <th>word_1</th>\n",
       "      <th>word_2</th>\n",
       "      <th>word_3</th>\n",
       "      <th>word_4</th>\n",
       "      <th>word_5</th>\n",
       "      <th>word_6</th>\n",
       "      <th>word_7</th>\n",
       "      <th>word_8</th>\n",
       "      <th>word_9</th>\n",
       "      <th>word_10</th>\n",
       "      <th>...</th>\n",
       "      <th>word_25412</th>\n",
       "      <th>word_25413</th>\n",
       "      <th>word_25414</th>\n",
       "      <th>word_25415</th>\n",
       "      <th>word_25416</th>\n",
       "      <th>word_25417</th>\n",
       "      <th>word_25418</th>\n",
       "      <th>word_25419</th>\n",
       "      <th>word_25420</th>\n",
       "      <th>word_25421</th>\n",
       "    </tr>\n",
       "    <tr>\n",
       "      <th>Annuncio</th>\n",
       "      <th></th>\n",
       "      <th></th>\n",
       "      <th></th>\n",
       "      <th></th>\n",
       "      <th></th>\n",
       "      <th></th>\n",
       "      <th></th>\n",
       "      <th></th>\n",
       "      <th></th>\n",
       "      <th></th>\n",
       "      <th></th>\n",
       "      <th></th>\n",
       "      <th></th>\n",
       "      <th></th>\n",
       "      <th></th>\n",
       "      <th></th>\n",
       "      <th></th>\n",
       "      <th></th>\n",
       "      <th></th>\n",
       "      <th></th>\n",
       "      <th></th>\n",
       "    </tr>\n",
       "  </thead>\n",
       "  <tbody>\n",
       "    <tr>\n",
       "      <th>announcement_1</th>\n",
       "      <td>0.007598</td>\n",
       "      <td>0.007515</td>\n",
       "      <td>0.009392</td>\n",
       "      <td>0.004817</td>\n",
       "      <td>0.004874</td>\n",
       "      <td>0.004997</td>\n",
       "      <td>0.004387</td>\n",
       "      <td>0.000344</td>\n",
       "      <td>0.001217</td>\n",
       "      <td>0.000776</td>\n",
       "      <td>...</td>\n",
       "      <td>0.0</td>\n",
       "      <td>0.0</td>\n",
       "      <td>0.0</td>\n",
       "      <td>0.0</td>\n",
       "      <td>0.0</td>\n",
       "      <td>0.0</td>\n",
       "      <td>0.0</td>\n",
       "      <td>0.0</td>\n",
       "      <td>0.0</td>\n",
       "      <td>0.0</td>\n",
       "    </tr>\n",
       "    <tr>\n",
       "      <th>announcement_2</th>\n",
       "      <td>0.000000</td>\n",
       "      <td>0.000000</td>\n",
       "      <td>0.000000</td>\n",
       "      <td>0.000000</td>\n",
       "      <td>0.000000</td>\n",
       "      <td>0.000000</td>\n",
       "      <td>0.000000</td>\n",
       "      <td>0.000000</td>\n",
       "      <td>0.000000</td>\n",
       "      <td>0.000000</td>\n",
       "      <td>...</td>\n",
       "      <td>0.0</td>\n",
       "      <td>0.0</td>\n",
       "      <td>0.0</td>\n",
       "      <td>0.0</td>\n",
       "      <td>0.0</td>\n",
       "      <td>0.0</td>\n",
       "      <td>0.0</td>\n",
       "      <td>0.0</td>\n",
       "      <td>0.0</td>\n",
       "      <td>0.0</td>\n",
       "    </tr>\n",
       "    <tr>\n",
       "      <th>announcement_3</th>\n",
       "      <td>0.000000</td>\n",
       "      <td>0.000000</td>\n",
       "      <td>0.000000</td>\n",
       "      <td>0.000000</td>\n",
       "      <td>0.000000</td>\n",
       "      <td>0.000000</td>\n",
       "      <td>0.000000</td>\n",
       "      <td>0.000273</td>\n",
       "      <td>0.000000</td>\n",
       "      <td>0.000309</td>\n",
       "      <td>...</td>\n",
       "      <td>0.0</td>\n",
       "      <td>0.0</td>\n",
       "      <td>0.0</td>\n",
       "      <td>0.0</td>\n",
       "      <td>0.0</td>\n",
       "      <td>0.0</td>\n",
       "      <td>0.0</td>\n",
       "      <td>0.0</td>\n",
       "      <td>0.0</td>\n",
       "      <td>0.0</td>\n",
       "    </tr>\n",
       "    <tr>\n",
       "      <th>announcement_4</th>\n",
       "      <td>0.000000</td>\n",
       "      <td>0.000000</td>\n",
       "      <td>0.000000</td>\n",
       "      <td>0.000000</td>\n",
       "      <td>0.000000</td>\n",
       "      <td>0.000000</td>\n",
       "      <td>0.000000</td>\n",
       "      <td>0.000000</td>\n",
       "      <td>0.000000</td>\n",
       "      <td>0.000000</td>\n",
       "      <td>...</td>\n",
       "      <td>0.0</td>\n",
       "      <td>0.0</td>\n",
       "      <td>0.0</td>\n",
       "      <td>0.0</td>\n",
       "      <td>0.0</td>\n",
       "      <td>0.0</td>\n",
       "      <td>0.0</td>\n",
       "      <td>0.0</td>\n",
       "      <td>0.0</td>\n",
       "      <td>0.0</td>\n",
       "    </tr>\n",
       "    <tr>\n",
       "      <th>announcement_5</th>\n",
       "      <td>0.000000</td>\n",
       "      <td>0.000000</td>\n",
       "      <td>0.000000</td>\n",
       "      <td>0.000000</td>\n",
       "      <td>0.000000</td>\n",
       "      <td>0.000000</td>\n",
       "      <td>0.000000</td>\n",
       "      <td>0.000000</td>\n",
       "      <td>0.000000</td>\n",
       "      <td>0.000000</td>\n",
       "      <td>...</td>\n",
       "      <td>0.0</td>\n",
       "      <td>0.0</td>\n",
       "      <td>0.0</td>\n",
       "      <td>0.0</td>\n",
       "      <td>0.0</td>\n",
       "      <td>0.0</td>\n",
       "      <td>0.0</td>\n",
       "      <td>0.0</td>\n",
       "      <td>0.0</td>\n",
       "      <td>0.0</td>\n",
       "    </tr>\n",
       "  </tbody>\n",
       "</table>\n",
       "<p>5 rows × 25421 columns</p>\n",
       "</div>"
      ],
      "text/plain": [
       "                  word_1    word_2    word_3    word_4    word_5    word_6  \\\n",
       "Annuncio                                                                     \n",
       "announcement_1  0.007598  0.007515  0.009392  0.004817  0.004874  0.004997   \n",
       "announcement_2  0.000000  0.000000  0.000000  0.000000  0.000000  0.000000   \n",
       "announcement_3  0.000000  0.000000  0.000000  0.000000  0.000000  0.000000   \n",
       "announcement_4  0.000000  0.000000  0.000000  0.000000  0.000000  0.000000   \n",
       "announcement_5  0.000000  0.000000  0.000000  0.000000  0.000000  0.000000   \n",
       "\n",
       "                  word_7    word_8    word_9   word_10     ...      \\\n",
       "Annuncio                                                   ...       \n",
       "announcement_1  0.004387  0.000344  0.001217  0.000776     ...       \n",
       "announcement_2  0.000000  0.000000  0.000000  0.000000     ...       \n",
       "announcement_3  0.000000  0.000273  0.000000  0.000309     ...       \n",
       "announcement_4  0.000000  0.000000  0.000000  0.000000     ...       \n",
       "announcement_5  0.000000  0.000000  0.000000  0.000000     ...       \n",
       "\n",
       "                word_25412  word_25413  word_25414  word_25415  word_25416  \\\n",
       "Annuncio                                                                     \n",
       "announcement_1         0.0         0.0         0.0         0.0         0.0   \n",
       "announcement_2         0.0         0.0         0.0         0.0         0.0   \n",
       "announcement_3         0.0         0.0         0.0         0.0         0.0   \n",
       "announcement_4         0.0         0.0         0.0         0.0         0.0   \n",
       "announcement_5         0.0         0.0         0.0         0.0         0.0   \n",
       "\n",
       "                word_25417  word_25418  word_25419  word_25420  word_25421  \n",
       "Annuncio                                                                    \n",
       "announcement_1         0.0         0.0         0.0         0.0         0.0  \n",
       "announcement_2         0.0         0.0         0.0         0.0         0.0  \n",
       "announcement_3         0.0         0.0         0.0         0.0         0.0  \n",
       "announcement_4         0.0         0.0         0.0         0.0         0.0  \n",
       "announcement_5         0.0         0.0         0.0         0.0         0.0  \n",
       "\n",
       "[5 rows x 25421 columns]"
      ]
     },
     "execution_count": 119,
     "metadata": {},
     "output_type": "execute_result"
    }
   ],
   "source": [
    "#Split and generate count vectors\n",
    "word_vec = df1.parole.apply(str.split).apply(pd.value_counts).fillna(0)\n",
    "# Compute term frequencies\n",
    "tf = word_vec.divide(np.sum(word_vec, axis=1), axis=0)\n",
    "# Compute inverse document frequencies\n",
    "idf = np.log10(len(tf) / word_vec[word_vec > 0].count())\n",
    "# Compute TF-IDF vectors\n",
    "tfidf = np.multiply(tf, idf.to_frame().T)\n",
    "#L2 (Euclidean) normalization\n",
    "l2_norm = np.sum(np.sqrt(tfidf), axis=1)\n",
    "#Normalized TF-IDF vectors\n",
    "tfidf_norm = (tfidf.T / l2_norm).T\n",
    "#store in a dataframe\n",
    "Description_cluster=pd.DataFrame(tfidf_norm)\n",
    "#simply replace the names of columns(which are the words coming from the preprocess ) with the required format\n",
    "word_column=['word_'+str(i) for i in range(1,len(Description_cluster.columns)+1) ]\n",
    "Description_cluster.columns=word_column\n",
    "Description_cluster=Description_cluster.set_index(Information_cluster.index)\n",
    "Description_cluster.head()"
   ]
  },
  {
   "cell_type": "markdown",
   "metadata": {},
   "source": [
    "### Saving data to csv"
   ]
  },
  {
   "cell_type": "code",
   "execution_count": 72,
   "metadata": {},
   "outputs": [],
   "source": [
    "Description_cluster.to_csv(r'C:\\Users\\Daniele\\Desktop\\liste download\\Matrix_TfIdf.csv')\n",
    "Information_cluster.to_csv(r'C:\\Users\\Daniele\\Desktop\\liste download\\Matrix_TfIdf.csv')"
   ]
  },
  {
   "cell_type": "markdown",
   "metadata": {},
   "source": [
    "### Loading data Matrix"
   ]
  },
  {
   "cell_type": "code",
   "execution_count": 20,
   "metadata": {},
   "outputs": [],
   "source": [
    "Description_cluster=pd.read_csv(r'C:\\Users\\Daniele\\Desktop\\liste download\\Matrix_TfIdf.csv')\n",
    "Description_cluster=Description_cluster.set_index('Annuncio')\n",
    "Information_cluster=pd.read_csv(r'C:\\Users\\Daniele\\Desktop\\liste download\\Matrix.csv')\n",
    "Information_cluster=Information_cluster.set_index('Annuncio')"
   ]
  },
  {
   "cell_type": "markdown",
   "metadata": {},
   "source": [
    "# Clustering"
   ]
  },
  {
   "cell_type": "markdown",
   "metadata": {},
   "source": [
    "Before start the KMeans Algorithm we check with Elbow test the number of clusters to assign with Elbow method. Both Dataframe are converted to a matrix with the simple command $.values$. After viewing the plot, we have to find where $\"elbow\"$ is."
   ]
  },
  {
   "cell_type": "code",
   "execution_count": 9,
   "metadata": {
    "scrolled": false
   },
   "outputs": [
    {
     "name": "stderr",
     "output_type": "stream",
     "text": [
      "100%|████████████████████████████████████████████████████████████████████████████████████| 8/8 [00:01<00:00,  7.77it/s]\n"
     ]
    },
    {
     "data": {
      "image/png": "[encoded data removed]",
      "text/plain": [
       "<matplotlib.figure.Figure at 0x286939cd748>"
      ]
     },
     "metadata": {},
     "output_type": "display_data"
    }
   ],
   "source": [
    "elbow=[]\n",
    "for i in tqdm( range(2,10)):\n",
    "    km =KMeans(n_clusters=int(i), init='k-means++', tol=0.0001).fit(Information_cluster.values)\n",
    "    elbow.append(km.inertia_)\n",
    "plt.plot(elbow)\n",
    "plt.grid(True)\n",
    "plt.title('Elbow curve')\n",
    "plt.show()\n",
    "\n"
   ]
  },
  {
   "cell_type": "code",
   "execution_count": 10,
   "metadata": {
    "scrolled": false
   },
   "outputs": [
    {
     "name": "stderr",
     "output_type": "stream",
     "text": [
      "100%|███████████████████████████████████████████████████████████████████████████████████| 8/8 [24:48<00:00, 186.07s/it]\n"
     ]
    },
    {
     "data": {
      "image/png": "[encoded data removed]",
      "text/plain": [
       "<matplotlib.figure.Figure at 0x28697d8fba8>"
      ]
     },
     "metadata": {},
     "output_type": "display_data"
    }
   ],
   "source": [
    "elbow1=[]\n",
    "for i in tqdm( range(2,10)):\n",
    "    km =KMeans(n_clusters=int(i), init='k-means++', tol=0.0001).fit(Description_cluster.values)\n",
    "    elbow1.append(km.inertia_)\n",
    "plt.plot(elbow)\n",
    "plt.grid(True)\n",
    "plt.title('Elbow curve')\n",
    "plt.show()\n",
    "\n"
   ]
  },
  {
   "cell_type": "markdown",
   "metadata": {},
   "source": [
    "After see the result of the plot we have hired that we can set 3 clusters for the Information matrix , for Description matrix we don't have a perfect elbow."
   ]
  },
  {
   "cell_type": "code",
   "execution_count": 21,
   "metadata": {},
   "outputs": [],
   "source": [
    "# Using sklearn\n",
    "km =KMeans(n_clusters=4, init='k-means++', tol=0.0001).fit(Description_cluster)\n",
    "km1=KMeans(n_clusters=3, init='k-means++', tol=0.0001).fit(Information_cluster)\n",
    "# Get cluster assignment labels\n",
    "labels = km.labels_\n",
    "labels1 = km1.labels_\n",
    "#put the result of cluster in a dataframe\n",
    "results = pd.DataFrame([Description_cluster.index,labels]).T\n",
    "results1 = pd.DataFrame([Information_cluster.index,labels]).T"
   ]
  },
  {
   "cell_type": "code",
   "execution_count": null,
   "metadata": {},
   "outputs": [],
   "source": [
    "final_result=pd.merge(results, results1, on=0)\n",
    "final_result"
   ]
  },
  {
   "cell_type": "markdown",
   "metadata": {},
   "source": [
    "In order to see which pair of clusters are the most similar we compute the $Jaccard-similarity$, also known as Intersection over union. We have defined a simple function and and subsequently it was applied to the clusters outputs."
   ]
  },
  {
   "cell_type": "code",
   "execution_count": 120,
   "metadata": {},
   "outputs": [],
   "source": [
    "def jaccard(a, b):\n",
    "    c = a.intersection(b)\n",
    "    return float(len(c)) / (len(a) + len(b) - len(c))"
   ]
  },
  {
   "cell_type": "code",
   "execution_count": 178,
   "metadata": {},
   "outputs": [],
   "source": [
    "#initialize empty dictionary with the size of clusters\n",
    "d={k:[] for k in range(4)}\n",
    "d1={k:[] for k in range(3)}\n",
    "\n",
    "for i,v in enumerate(labels):\n",
    "    d[v].append(i)\n",
    "    \n",
    "for i,v in enumerate(labels1):\n",
    "    d1[v].append(i)\n",
    "\n",
    "similarity = []\n",
    "\n",
    "for cluster1 in d.values():\n",
    "    for cluster2 in d1.values():\n",
    "        similarity.append(jaccard(set(cluster1),set(cluster2)))\n",
    "\n",
    "            "
   ]
  },
  {
   "cell_type": "code",
   "execution_count": 179,
   "metadata": {
    "scrolled": true
   },
   "outputs": [
    {
     "data": {
      "text/plain": [
       "[0.9155802716747197,\n",
       " 0.005381738575207516,\n",
       " 0.078536896834808,\n",
       " 0.0001990247785849338,\n",
       " 0.0,\n",
       " 0.0,\n",
       " 0.00029853716787740076,\n",
       " 0.0,\n",
       " 0.0,\n",
       " 9.95123892924669e-05,\n",
       " 0.0,\n",
       " 0.0]"
      ]
     },
     "execution_count": 179,
     "metadata": {},
     "output_type": "execute_result"
    }
   ],
   "source": [
    "similarity"
   ]
  },
  {
   "cell_type": "code",
   "execution_count": 180,
   "metadata": {},
   "outputs": [
    {
     "data": {
      "text/html": [
       "<div>\n",
       "<style scoped>\n",
       "    .dataframe tbody tr th:only-of-type {\n",
       "        vertical-align: middle;\n",
       "    }\n",
       "\n",
       "    .dataframe tbody tr th {\n",
       "        vertical-align: top;\n",
       "    }\n",
       "\n",
       "    .dataframe thead th {\n",
       "        text-align: right;\n",
       "    }\n",
       "</style>\n",
       "<table border=\"1\" class=\"dataframe\">\n",
       "  <thead>\n",
       "    <tr style=\"text-align: right;\">\n",
       "      <th></th>\n",
       "      <th>0</th>\n",
       "    </tr>\n",
       "  </thead>\n",
       "  <tbody>\n",
       "    <tr>\n",
       "      <th>0</th>\n",
       "      <td>0.915580</td>\n",
       "    </tr>\n",
       "    <tr>\n",
       "      <th>1</th>\n",
       "      <td>0.078537</td>\n",
       "    </tr>\n",
       "    <tr>\n",
       "      <th>2</th>\n",
       "      <td>0.005382</td>\n",
       "    </tr>\n",
       "  </tbody>\n",
       "</table>\n",
       "</div>"
      ],
      "text/plain": [
       "          0\n",
       "0  0.915580\n",
       "1  0.078537\n",
       "2  0.005382"
      ]
     },
     "execution_count": 180,
     "metadata": {},
     "output_type": "execute_result"
    }
   ],
   "source": [
    "similarity.sort(reverse=True)\n",
    "similarity[:3]\n",
    "Most_relevant=pd.DataFrame(similarity[:3])\n",
    "Most_relevant"
   ]
  }
 ],
 "metadata": {
  "kernelspec": {
   "display_name": "Python 3",
   "language": "python",
   "name": "python3"
  },
  "language_info": {
   "codemirror_mode": {
    "name": "ipython",
    "version": 3
   },
   "file_extension": ".py",
   "mimetype": "text/x-python",
   "name": "python",
   "nbconvert_exporter": "python",
   "pygments_lexer": "ipython3",
   "version": "3.6.3"
  }
 },
 "nbformat": 4,
 "nbformat_minor": 2
}
